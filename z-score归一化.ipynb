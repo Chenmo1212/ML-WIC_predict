{
 "cells": [
  {
   "cell_type": "code",
   "execution_count": 1,
   "id": "c25078b2-e93b-4d7c-b541-59c0f0ddbade",
   "metadata": {},
   "outputs": [],
   "source": [
    "import pandas as pd\n",
    "import numpy as np\n",
    "import matplotlib.pyplot as plt\n",
    "import seaborn as sns\n",
    "from category_encoders import TargetEncoder\n",
    "from sklearn.model_selection import cross_val_score\n",
    "from sklearn.linear_model import LinearRegression, Lasso, ElasticNet\n",
    "from sklearn.tree import DecisionTreeRegressor\n",
    "from sklearn.kernel_ridge import KernelRidge\n",
    "from sklearn.neural_network import MLPRegressor"
   ]
  },
  {
   "cell_type": "markdown",
   "id": "bb5dd7aa-de11-4408-a652-df461faceffb",
   "metadata": {},
   "source": [
    "## function"
   ]
  },
  {
   "cell_type": "code",
   "execution_count": 2,
   "id": "8bf7a2bc-fbf2-4c68-9b60-76f877ad257b",
   "metadata": {},
   "outputs": [],
   "source": [
    "def nanfill(data,row, column):\n",
    "    tag = data.iloc[row,1]\n",
    "    # print(data[data.iloc[:,1] == tag].iloc[:,column],'\\n')\n",
    "    temp = data[data.iloc[:,1] == tag].iloc[:,column]\n",
    "    temp = np.average(temp[temp.notna()])\n",
    "    if (pd.isna(temp)):\n",
    "        print(row,column)\n",
    "    data.iloc[row,column] = temp\n",
    "\n",
    "# def normalization(data):\n",
    "#     for i in range(data.shape[1]):\n",
    "#         m1 = min(data.iloc[:,i])\n",
    "#         m2 = max(data.iloc[:,i])\n",
    "#         if m1 != m2:\n",
    "#             data.iloc[:,i] = (data.iloc[:,i] - m1) / (m2 - m1)\n",
    "#         else:\n",
    "#             return -1\n",
    "\n",
    "def normalization(data):\n",
    "    for i in range(data.shape[1]):\n",
    "        avg = data.iloc[:,i].mean()\n",
    "        std = data.iloc[:,i].std(ddof = 1)\n",
    "        data.iloc[:,i] = (data.iloc[:,i] - avg) / std\n",
    "        \n",
    "# 计算交叉验证结果的均值和标准差， 默认为五折交叉验证，结果为相关系数R2      \n",
    "def cross_validate(models, cv = 5, scoring = 'r2'):\n",
    "    means = []\n",
    "    stds = []\n",
    "    for model in models:\n",
    "        score = cross_val_score(model, X_train, y_train, cv = cv, scoring = scoring)\n",
    "        means.append(score.mean())\n",
    "        stds.append(score.std(ddof = 1))\n",
    "    return means, stds"
   ]
  },
  {
   "cell_type": "markdown",
   "id": "77c17068-7024-424b-a9dc-bfbcf4376fb5",
   "metadata": {},
   "source": [
    "## Data import"
   ]
  },
  {
   "cell_type": "code",
   "execution_count": 3,
   "id": "dcc12c07-f05d-4ee4-902a-2fb1dfd7fb1c",
   "metadata": {},
   "outputs": [],
   "source": [
    "raw_data = pd.read_csv('Data.csv')\n",
    "\n",
    "for i in range(3):\n",
    "    for j in range(raw_data.shape[0]):\n",
    "        raw_data.iloc[j,i+2] = np.float64(raw_data.iloc[j,i+2].replace(',',''))\n",
    "        \n",
    "for i in range(raw_data.shape[0]):\n",
    "    for j in range(raw_data.shape[1]):\n",
    "        if (pd.isna(raw_data.iloc[i,j])):\n",
    "            nanfill(raw_data,i,j)"
   ]
  },
  {
   "cell_type": "markdown",
   "id": "6090d498-97a4-4a2b-9592-0474cff2bb83",
   "metadata": {},
   "source": [
    "## Analysis of Correlation"
   ]
  },
  {
   "cell_type": "code",
   "execution_count": null,
   "id": "2d6987fe-2a02-41eb-ab47-f0b56eb29ad8",
   "metadata": {},
   "outputs": [],
   "source": [
    "group = [['LACCESS_POP15','LACCESS_LOWI15','LACCESS_HHNV15','LACCESS_CHILD15','LACCESS_SENIORS15'],\n",
    "        ['GROCPTH16', 'SUPERCPTH16', 'CONVSPTH16', 'SPECSPTH16', 'WICSPTH16'],\n",
    "        ['FFRPTH16', 'FSRPTH16'],\n",
    "        ['FOODINSEC_15_17', 'VLFOODSEC_15_17'],\n",
    "        ['FMRKT_WIC18', 'FMRKT_WICCASH18'],\n",
    "        ['POVRATE15', 'CHILDPOVRATE15']]"
   ]
  },
  {
   "cell_type": "code",
   "execution_count": null,
   "id": "46ab15fe-8414-4c62-9803-47ff97ab294f",
   "metadata": {},
   "outputs": [],
   "source": [
    "for i in range(len(group)):\n",
    "    corr = raw_data[group[i]].corr()\n",
    "    plt.figure(figsize = (12,8), dpi = 300)\n",
    "    sns.heatmap(corr,linewidths=0.1,vmax=1.0, square=True,linecolor='white', annot=True)\n",
    "    plt.savefig('corr_heatmap_{}.jpg'.format(i))"
   ]
  },
  {
   "cell_type": "markdown",
   "id": "bc31369f-f1a5-4d4a-8907-7694066d45c8",
   "metadata": {},
   "source": [
    "## Data preprocessing"
   ]
  },
  {
   "cell_type": "code",
   "execution_count": 4,
   "id": "3b1896db-6a29-420e-97f7-c888acf92d17",
   "metadata": {},
   "outputs": [],
   "source": [
    "preserve_columns = ['State','LACCESS_POP15','GROCPTH16',\n",
    "                    'SUPERCPTH16','CONVSPTH16','SPECSPTH16','WICSPTH16','FFRPTH16','FSRPTH16',\n",
    "                    'FOODINSEC_15_17','FMRKT_WIC18','POVRATE15','PCT_WIC17']\n",
    "\n",
    "raw_data['PCT_WIC17'] = raw_data['PCT_WIC17'] * raw_data['Population_Estimate_2016'] / 100\n",
    "raw_data['FOODINSEC_15_17'] = raw_data['FOODINSEC_15_17'] * raw_data['Population_Estimate_2016'] / 100\n",
    "raw_data['POVRATE15'] = raw_data['POVRATE15'] * raw_data['Population_Estimate_2016'] / 100\n",
    "\n",
    "raw_data = raw_data[preserve_columns]\n",
    "\n",
    "\n",
    "# for i in range(raw_data.shape[1]-2):\n",
    "#     plt.figure(figsize = (12,8), dpi = 300)\n",
    "#     plt.plot(range(raw_data.shape[0]), raw_data.iloc[:,i+2])\n",
    "#     print(preserve_columns[i+2])\n",
    "\n"
   ]
  },
  {
   "cell_type": "code",
   "execution_count": 5,
   "id": "4e6af3d5-0375-45f6-95ac-50294791124e",
   "metadata": {},
   "outputs": [
    {
     "data": {
      "text/html": [
       "<div>\n",
       "<style scoped>\n",
       "    .dataframe tbody tr th:only-of-type {\n",
       "        vertical-align: middle;\n",
       "    }\n",
       "\n",
       "    .dataframe tbody tr th {\n",
       "        vertical-align: top;\n",
       "    }\n",
       "\n",
       "    .dataframe thead th {\n",
       "        text-align: right;\n",
       "    }\n",
       "</style>\n",
       "<table border=\"1\" class=\"dataframe\">\n",
       "  <thead>\n",
       "    <tr style=\"text-align: right;\">\n",
       "      <th></th>\n",
       "      <th>State</th>\n",
       "      <th>LACCESS_POP15</th>\n",
       "      <th>GROCPTH16</th>\n",
       "      <th>SUPERCPTH16</th>\n",
       "      <th>CONVSPTH16</th>\n",
       "      <th>SPECSPTH16</th>\n",
       "      <th>WICSPTH16</th>\n",
       "      <th>FFRPTH16</th>\n",
       "      <th>FSRPTH16</th>\n",
       "      <th>FOODINSEC_15_17</th>\n",
       "      <th>FMRKT_WIC18</th>\n",
       "      <th>POVRATE15</th>\n",
       "      <th>PCT_WIC17</th>\n",
       "    </tr>\n",
       "  </thead>\n",
       "  <tbody>\n",
       "    <tr>\n",
       "      <th>0</th>\n",
       "      <td>Alabama</td>\n",
       "      <td>17496.693040</td>\n",
       "      <td>0.054271</td>\n",
       "      <td>0.018090</td>\n",
       "      <td>0.560802</td>\n",
       "      <td>0.018090</td>\n",
       "      <td>0.090511</td>\n",
       "      <td>0.795977</td>\n",
       "      <td>0.560802</td>\n",
       "      <td>9004.446</td>\n",
       "      <td>0.0</td>\n",
       "      <td>7015.734</td>\n",
       "      <td>1405.118725</td>\n",
       "    </tr>\n",
       "    <tr>\n",
       "      <th>1</th>\n",
       "      <td>Alabama</td>\n",
       "      <td>30561.264430</td>\n",
       "      <td>0.139753</td>\n",
       "      <td>0.033733</td>\n",
       "      <td>0.568650</td>\n",
       "      <td>0.130115</td>\n",
       "      <td>0.134802</td>\n",
       "      <td>0.751775</td>\n",
       "      <td>1.137300</td>\n",
       "      <td>33857.056</td>\n",
       "      <td>0.0</td>\n",
       "      <td>26794.848</td>\n",
       "      <td>5283.29931</td>\n",
       "    </tr>\n",
       "    <tr>\n",
       "      <th>2</th>\n",
       "      <td>Alabama</td>\n",
       "      <td>6069.523628</td>\n",
       "      <td>0.155195</td>\n",
       "      <td>0.038799</td>\n",
       "      <td>0.737177</td>\n",
       "      <td>0.077598</td>\n",
       "      <td>0.232387</td>\n",
       "      <td>0.892372</td>\n",
       "      <td>0.543183</td>\n",
       "      <td>4208.497</td>\n",
       "      <td>0.0</td>\n",
       "      <td>8262.08</td>\n",
       "      <td>656.724238</td>\n",
       "    </tr>\n",
       "    <tr>\n",
       "      <th>3</th>\n",
       "      <td>Alabama</td>\n",
       "      <td>969.378841</td>\n",
       "      <td>0.220916</td>\n",
       "      <td>0.044183</td>\n",
       "      <td>0.662749</td>\n",
       "      <td>0.000000</td>\n",
       "      <td>0.221474</td>\n",
       "      <td>0.309283</td>\n",
       "      <td>0.309283</td>\n",
       "      <td>3679.888</td>\n",
       "      <td>0.0</td>\n",
       "      <td>5011.872</td>\n",
       "      <td>574.236275</td>\n",
       "    </tr>\n",
       "    <tr>\n",
       "      <th>4</th>\n",
       "      <td>Alabama</td>\n",
       "      <td>3724.428242</td>\n",
       "      <td>0.086863</td>\n",
       "      <td>0.017373</td>\n",
       "      <td>0.469059</td>\n",
       "      <td>0.000000</td>\n",
       "      <td>0.139089</td>\n",
       "      <td>0.399569</td>\n",
       "      <td>0.208471</td>\n",
       "      <td>9375.271</td>\n",
       "      <td>1.0</td>\n",
       "      <td>8454.999</td>\n",
       "      <td>1462.984933</td>\n",
       "    </tr>\n",
       "    <tr>\n",
       "      <th>...</th>\n",
       "      <td>...</td>\n",
       "      <td>...</td>\n",
       "      <td>...</td>\n",
       "      <td>...</td>\n",
       "      <td>...</td>\n",
       "      <td>...</td>\n",
       "      <td>...</td>\n",
       "      <td>...</td>\n",
       "      <td>...</td>\n",
       "      <td>...</td>\n",
       "      <td>...</td>\n",
       "      <td>...</td>\n",
       "      <td>...</td>\n",
       "    </tr>\n",
       "    <tr>\n",
       "      <th>3136</th>\n",
       "      <td>Wyoming</td>\n",
       "      <td>18934.737810</td>\n",
       "      <td>0.090406</td>\n",
       "      <td>0.022601</td>\n",
       "      <td>0.497231</td>\n",
       "      <td>0.022601</td>\n",
       "      <td>0.090344</td>\n",
       "      <td>0.700644</td>\n",
       "      <td>0.723246</td>\n",
       "      <td>5844.3</td>\n",
       "      <td>0.0</td>\n",
       "      <td>3763.375</td>\n",
       "      <td>776.384661</td>\n",
       "    </tr>\n",
       "    <tr>\n",
       "      <th>3137</th>\n",
       "      <td>Wyoming</td>\n",
       "      <td>6212.390430</td>\n",
       "      <td>0.474547</td>\n",
       "      <td>0.000000</td>\n",
       "      <td>0.819672</td>\n",
       "      <td>0.345125</td>\n",
       "      <td>0.129528</td>\n",
       "      <td>0.862813</td>\n",
       "      <td>2.545298</td>\n",
       "      <td>3057.252</td>\n",
       "      <td>0.0</td>\n",
       "      <td>1528.626</td>\n",
       "      <td>406.139924</td>\n",
       "    </tr>\n",
       "    <tr>\n",
       "      <th>3138</th>\n",
       "      <td>Wyoming</td>\n",
       "      <td>4686.017653</td>\n",
       "      <td>0.096567</td>\n",
       "      <td>0.048284</td>\n",
       "      <td>0.627686</td>\n",
       "      <td>0.096567</td>\n",
       "      <td>0.144991</td>\n",
       "      <td>0.820820</td>\n",
       "      <td>0.917387</td>\n",
       "      <td>2731.212</td>\n",
       "      <td>0.0</td>\n",
       "      <td>2027.718</td>\n",
       "      <td>362.827217</td>\n",
       "    </tr>\n",
       "    <tr>\n",
       "      <th>3139</th>\n",
       "      <td>Wyoming</td>\n",
       "      <td>931.411647</td>\n",
       "      <td>0.244260</td>\n",
       "      <td>0.000000</td>\n",
       "      <td>0.366390</td>\n",
       "      <td>0.000000</td>\n",
       "      <td>0.244858</td>\n",
       "      <td>0.732780</td>\n",
       "      <td>1.465559</td>\n",
       "      <td>1078.176</td>\n",
       "      <td>0.0</td>\n",
       "      <td>914.816</td>\n",
       "      <td>143.230038</td>\n",
       "    </tr>\n",
       "    <tr>\n",
       "      <th>3140</th>\n",
       "      <td>Wyoming</td>\n",
       "      <td>1237.267037</td>\n",
       "      <td>0.555710</td>\n",
       "      <td>0.000000</td>\n",
       "      <td>0.555710</td>\n",
       "      <td>0.000000</td>\n",
       "      <td>0.415916</td>\n",
       "      <td>0.555710</td>\n",
       "      <td>1.389275</td>\n",
       "      <td>952.116</td>\n",
       "      <td>0.0</td>\n",
       "      <td>706.874</td>\n",
       "      <td>126.483626</td>\n",
       "    </tr>\n",
       "  </tbody>\n",
       "</table>\n",
       "<p>3141 rows × 13 columns</p>\n",
       "</div>"
      ],
      "text/plain": [
       "        State  LACCESS_POP15  GROCPTH16  SUPERCPTH16  CONVSPTH16  SPECSPTH16  \\\n",
       "0     Alabama   17496.693040   0.054271     0.018090    0.560802    0.018090   \n",
       "1     Alabama   30561.264430   0.139753     0.033733    0.568650    0.130115   \n",
       "2     Alabama    6069.523628   0.155195     0.038799    0.737177    0.077598   \n",
       "3     Alabama     969.378841   0.220916     0.044183    0.662749    0.000000   \n",
       "4     Alabama    3724.428242   0.086863     0.017373    0.469059    0.000000   \n",
       "...       ...            ...        ...          ...         ...         ...   \n",
       "3136  Wyoming   18934.737810   0.090406     0.022601    0.497231    0.022601   \n",
       "3137  Wyoming    6212.390430   0.474547     0.000000    0.819672    0.345125   \n",
       "3138  Wyoming    4686.017653   0.096567     0.048284    0.627686    0.096567   \n",
       "3139  Wyoming     931.411647   0.244260     0.000000    0.366390    0.000000   \n",
       "3140  Wyoming    1237.267037   0.555710     0.000000    0.555710    0.000000   \n",
       "\n",
       "      WICSPTH16  FFRPTH16  FSRPTH16 FOODINSEC_15_17  FMRKT_WIC18  POVRATE15  \\\n",
       "0      0.090511  0.795977  0.560802        9004.446          0.0   7015.734   \n",
       "1      0.134802  0.751775  1.137300       33857.056          0.0  26794.848   \n",
       "2      0.232387  0.892372  0.543183        4208.497          0.0    8262.08   \n",
       "3      0.221474  0.309283  0.309283        3679.888          0.0   5011.872   \n",
       "4      0.139089  0.399569  0.208471        9375.271          1.0   8454.999   \n",
       "...         ...       ...       ...             ...          ...        ...   \n",
       "3136   0.090344  0.700644  0.723246          5844.3          0.0   3763.375   \n",
       "3137   0.129528  0.862813  2.545298        3057.252          0.0   1528.626   \n",
       "3138   0.144991  0.820820  0.917387        2731.212          0.0   2027.718   \n",
       "3139   0.244858  0.732780  1.465559        1078.176          0.0    914.816   \n",
       "3140   0.415916  0.555710  1.389275         952.116          0.0    706.874   \n",
       "\n",
       "        PCT_WIC17  \n",
       "0     1405.118725  \n",
       "1      5283.29931  \n",
       "2      656.724238  \n",
       "3      574.236275  \n",
       "4     1462.984933  \n",
       "...           ...  \n",
       "3136   776.384661  \n",
       "3137   406.139924  \n",
       "3138   362.827217  \n",
       "3139   143.230038  \n",
       "3140   126.483626  \n",
       "\n",
       "[3141 rows x 13 columns]"
      ]
     },
     "execution_count": 5,
     "metadata": {},
     "output_type": "execute_result"
    }
   ],
   "source": [
    "raw_data"
   ]
  },
  {
   "cell_type": "code",
   "execution_count": 5,
   "id": "e317bbd0-5aa1-430f-84fb-400ae7ca234e",
   "metadata": {},
   "outputs": [
    {
     "name": "stderr",
     "output_type": "stream",
     "text": [
      "c:\\Software\\Conda\\envs\\py38\\lib\\site-packages\\category_encoders\\target_encoder.py:122: FutureWarning: Default parameter min_samples_leaf will change in version 2.6.See https://github.com/scikit-learn-contrib/category_encoders/issues/327\n",
      "  warnings.warn(\"Default parameter min_samples_leaf will change in version 2.6.\"\n",
      "c:\\Software\\Conda\\envs\\py38\\lib\\site-packages\\category_encoders\\target_encoder.py:127: FutureWarning: Default parameter smoothing will change in version 2.6.See https://github.com/scikit-learn-contrib/category_encoders/issues/327\n",
      "  warnings.warn(\"Default parameter smoothing will change in version 2.6.\"\n"
     ]
    }
   ],
   "source": [
    "temp = raw_data.iloc[:,1:]\n",
    "normalization(temp)\n",
    "raw_data.iloc[:,1:] = temp\n",
    "enc = TargetEncoder(cols = ['State']).fit(raw_data['State'],raw_data['PCT_WIC17'])\n",
    "raw_data['State'] = enc.transform(raw_data['State'])\n",
    "data = raw_data.sample(frac = 1, random_state = 913).values\n",
    "X_train = np.float64(data[:2512,1:-1])\n",
    "y_train = np.float64(data[:2512,-1])\n",
    "X_test = np.float64(data[2512:,1:-1])\n",
    "y_test = np.float64(data[2512:,-1])"
   ]
  },
  {
   "cell_type": "markdown",
   "id": "5e893e93-83d6-4ba5-9b5e-1ec1b0dbdbea",
   "metadata": {},
   "source": [
    "## Baseline"
   ]
  },
  {
   "cell_type": "code",
   "execution_count": 10,
   "id": "313cbb67-2968-444c-8b44-cb84ee7847ba",
   "metadata": {},
   "outputs": [
    {
     "data": {
      "text/plain": [
       "([0.908892733654994,\n",
       "  0.908892733654994,\n",
       "  0.908892733654994,\n",
       "  0.908892733654994,\n",
       "  0.908892733654994],\n",
       " [0.025675379370049146,\n",
       "  0.025675379370049146,\n",
       "  0.025675379370049146,\n",
       "  0.025675379370049146,\n",
       "  0.025675379370049146])"
      ]
     },
     "execution_count": 10,
     "metadata": {},
     "output_type": "execute_result"
    }
   ],
   "source": [
    "models = []\n",
    "for i in range(5):\n",
    "    clf = LinearRegression()\n",
    "    models.append(clf)\n",
    "cross_validate(models)"
   ]
  },
  {
   "cell_type": "markdown",
   "id": "7357eab1-d539-45a0-b91c-9e91b425f5ab",
   "metadata": {},
   "source": [
    "## Ridge"
   ]
  },
  {
   "cell_type": "code",
   "execution_count": 11,
   "id": "43d798da-e75b-4083-ad5d-498463499a84",
   "metadata": {},
   "outputs": [],
   "source": [
    "Ridge_clfs = []\n",
    "for i in range(5):\n",
    "    clf = KernelRidge(alpha = 10 ** (i - 2), kernel = 'linear')\n",
    "    Ridge_clfs.append(clf)\n",
    "Ridge_means1, Ridge_stds1 = cross_validate(Ridge_clfs)"
   ]
  },
  {
   "cell_type": "code",
   "execution_count": 12,
   "id": "e747ed19-8b04-435f-832c-417d5ba4291a",
   "metadata": {},
   "outputs": [
    {
     "name": "stderr",
     "output_type": "stream",
     "text": [
      "c:\\Software\\Conda\\envs\\py38\\lib\\site-packages\\sklearn\\linear_model\\_ridge.py:251: UserWarning: Singular matrix in solving dual problem. Using least-squares solution instead.\n",
      "  warnings.warn(\n",
      "c:\\Software\\Conda\\envs\\py38\\lib\\site-packages\\sklearn\\linear_model\\_ridge.py:251: UserWarning: Singular matrix in solving dual problem. Using least-squares solution instead.\n",
      "  warnings.warn(\n",
      "c:\\Software\\Conda\\envs\\py38\\lib\\site-packages\\sklearn\\linear_model\\_ridge.py:251: UserWarning: Singular matrix in solving dual problem. Using least-squares solution instead.\n",
      "  warnings.warn(\n",
      "c:\\Software\\Conda\\envs\\py38\\lib\\site-packages\\sklearn\\linear_model\\_ridge.py:251: UserWarning: Singular matrix in solving dual problem. Using least-squares solution instead.\n",
      "  warnings.warn(\n",
      "c:\\Software\\Conda\\envs\\py38\\lib\\site-packages\\sklearn\\linear_model\\_ridge.py:251: UserWarning: Singular matrix in solving dual problem. Using least-squares solution instead.\n",
      "  warnings.warn(\n",
      "c:\\Software\\Conda\\envs\\py38\\lib\\site-packages\\sklearn\\linear_model\\_ridge.py:251: UserWarning: Singular matrix in solving dual problem. Using least-squares solution instead.\n",
      "  warnings.warn(\n",
      "c:\\Software\\Conda\\envs\\py38\\lib\\site-packages\\sklearn\\linear_model\\_ridge.py:251: UserWarning: Singular matrix in solving dual problem. Using least-squares solution instead.\n",
      "  warnings.warn(\n",
      "c:\\Software\\Conda\\envs\\py38\\lib\\site-packages\\sklearn\\linear_model\\_ridge.py:251: UserWarning: Singular matrix in solving dual problem. Using least-squares solution instead.\n",
      "  warnings.warn(\n",
      "c:\\Software\\Conda\\envs\\py38\\lib\\site-packages\\sklearn\\linear_model\\_ridge.py:251: UserWarning: Singular matrix in solving dual problem. Using least-squares solution instead.\n",
      "  warnings.warn(\n",
      "c:\\Software\\Conda\\envs\\py38\\lib\\site-packages\\sklearn\\linear_model\\_ridge.py:251: UserWarning: Singular matrix in solving dual problem. Using least-squares solution instead.\n",
      "  warnings.warn(\n",
      "c:\\Software\\Conda\\envs\\py38\\lib\\site-packages\\sklearn\\linear_model\\_ridge.py:251: UserWarning: Singular matrix in solving dual problem. Using least-squares solution instead.\n",
      "  warnings.warn(\n",
      "c:\\Software\\Conda\\envs\\py38\\lib\\site-packages\\sklearn\\linear_model\\_ridge.py:251: UserWarning: Singular matrix in solving dual problem. Using least-squares solution instead.\n",
      "  warnings.warn(\n",
      "c:\\Software\\Conda\\envs\\py38\\lib\\site-packages\\sklearn\\linear_model\\_ridge.py:251: UserWarning: Singular matrix in solving dual problem. Using least-squares solution instead.\n",
      "  warnings.warn(\n",
      "c:\\Software\\Conda\\envs\\py38\\lib\\site-packages\\sklearn\\linear_model\\_ridge.py:251: UserWarning: Singular matrix in solving dual problem. Using least-squares solution instead.\n",
      "  warnings.warn(\n",
      "c:\\Software\\Conda\\envs\\py38\\lib\\site-packages\\sklearn\\linear_model\\_ridge.py:251: UserWarning: Singular matrix in solving dual problem. Using least-squares solution instead.\n",
      "  warnings.warn(\n",
      "c:\\Software\\Conda\\envs\\py38\\lib\\site-packages\\sklearn\\linear_model\\_ridge.py:251: UserWarning: Singular matrix in solving dual problem. Using least-squares solution instead.\n",
      "  warnings.warn(\n",
      "c:\\Software\\Conda\\envs\\py38\\lib\\site-packages\\sklearn\\linear_model\\_ridge.py:251: UserWarning: Singular matrix in solving dual problem. Using least-squares solution instead.\n",
      "  warnings.warn(\n",
      "c:\\Software\\Conda\\envs\\py38\\lib\\site-packages\\sklearn\\linear_model\\_ridge.py:251: UserWarning: Singular matrix in solving dual problem. Using least-squares solution instead.\n",
      "  warnings.warn(\n",
      "c:\\Software\\Conda\\envs\\py38\\lib\\site-packages\\sklearn\\linear_model\\_ridge.py:251: UserWarning: Singular matrix in solving dual problem. Using least-squares solution instead.\n",
      "  warnings.warn(\n",
      "c:\\Software\\Conda\\envs\\py38\\lib\\site-packages\\sklearn\\linear_model\\_ridge.py:251: UserWarning: Singular matrix in solving dual problem. Using least-squares solution instead.\n",
      "  warnings.warn(\n"
     ]
    }
   ],
   "source": [
    "Ridge_clfs = []\n",
    "for i in range(5):\n",
    "    clf = KernelRidge(alpha = 10 ** (i - 2), kernel = 'sigmoid')\n",
    "    Ridge_clfs.append(clf)\n",
    "Ridge_means2, Ridge_stds2 = cross_validate(Ridge_clfs)"
   ]
  },
  {
   "cell_type": "code",
   "execution_count": 13,
   "id": "9f7dd93b-8fae-45c5-bc0e-493ab9b18b5b",
   "metadata": {},
   "outputs": [],
   "source": [
    "Ridge_clfs = []\n",
    "for i in range(5):\n",
    "    clf = KernelRidge(alpha = 10 ** (i - 2), kernel = 'rbf')\n",
    "    Ridge_clfs.append(clf)\n",
    "Ridge_means3, Ridge_stds3 = cross_validate(Ridge_clfs)"
   ]
  },
  {
   "cell_type": "code",
   "execution_count": 14,
   "id": "054971fe-cbea-43ee-953d-06a724590d69",
   "metadata": {},
   "outputs": [
    {
     "data": {
      "text/plain": [
       "([0.908996591128048,\n",
       "  0.909013209198244,\n",
       "  0.9091768733499028,\n",
       "  0.9105964125778719,\n",
       "  0.9160827473828184],\n",
       " [-301.6674032159934,\n",
       "  -485.71645232535894,\n",
       "  -10.515867227142687,\n",
       "  -23.512478574983252,\n",
       "  0.042959089447886914],\n",
       " [0.4452518915240763,\n",
       "  0.43894749255387067,\n",
       "  0.3916969051431077,\n",
       "  0.2757141053532872,\n",
       "  0.13362412321627243])"
      ]
     },
     "execution_count": 14,
     "metadata": {},
     "output_type": "execute_result"
    }
   ],
   "source": [
    "Ridge_means1,Ridge_means2,Ridge_means3"
   ]
  },
  {
   "cell_type": "markdown",
   "id": "9e66b063-58c0-460c-9a10-8866c27e49aa",
   "metadata": {},
   "source": [
    "## Lasso"
   ]
  },
  {
   "cell_type": "code",
   "execution_count": 15,
   "id": "738eda53-e846-4e17-bd15-686c52559d3a",
   "metadata": {},
   "outputs": [
    {
     "data": {
      "text/plain": [
       "[0.9132022195071137,\n",
       " 0.9102684539827521,\n",
       " 0.10137692798669244,\n",
       " -0.001469115496448703,\n",
       " -0.001469115496448703]"
      ]
     },
     "execution_count": 15,
     "metadata": {},
     "output_type": "execute_result"
    }
   ],
   "source": [
    "Lasso_clfs = []\n",
    "for i in range(5):\n",
    "    clf = Lasso(alpha = 10 ** (i - 2), max_iter = 5000, random_state = 913)\n",
    "    Lasso_clfs.append(clf)\n",
    "Lasso_mean, Lasso_std = cross_validate(Lasso_clfs)\n",
    "Lasso_mean"
   ]
  },
  {
   "cell_type": "markdown",
   "id": "d5de9f96-89f9-4b4e-96fb-2bab5f95bac3",
   "metadata": {},
   "source": [
    "## Elastic Net"
   ]
  },
  {
   "cell_type": "code",
   "execution_count": 16,
   "id": "b52697ea-db29-4b5a-8aa8-32cd90b03451",
   "metadata": {},
   "outputs": [],
   "source": [
    "ElasticNet_clfs = []\n",
    "l1_ratio = [0.25,0.5,0.75]\n",
    "for i in range(3):\n",
    "    same_ratio = []\n",
    "    for j in range(5):\n",
    "        clf = ElasticNet(alpha = 10 ** (i - 2), l1_ratio = l1_ratio[i], random_state = 913, max_iter = 5000)\n",
    "        same_ratio.append(clf)\n",
    "    ElasticNet_clfs.append(same_ratio)\n",
    "\n",
    "EN_means = []\n",
    "EN_stds = []\n",
    "for i in range(3):\n",
    "    EN_mean, EN_std = cross_validate(ElasticNet_clfs[i])\n",
    "    EN_means.append(EN_mean)\n",
    "    EN_stds.append(EN_std)"
   ]
  },
  {
   "cell_type": "code",
   "execution_count": 17,
   "id": "bcc0eb25-78ea-4f11-b55a-fb00a80c259c",
   "metadata": {},
   "outputs": [
    {
     "data": {
      "text/plain": [
       "[[0.9124657160524936,\n",
       "  0.9124657160524936,\n",
       "  0.9124657160524936,\n",
       "  0.9124657160524936,\n",
       "  0.9124657160524936],\n",
       " [0.9196284480440952,\n",
       "  0.9196284480440952,\n",
       "  0.9196284480440952,\n",
       "  0.9196284480440952,\n",
       "  0.9196284480440952],\n",
       " [0.36707347695535114,\n",
       "  0.36707347695535114,\n",
       "  0.36707347695535114,\n",
       "  0.36707347695535114,\n",
       "  0.36707347695535114]]"
      ]
     },
     "execution_count": 17,
     "metadata": {},
     "output_type": "execute_result"
    }
   ],
   "source": [
    "EN_means"
   ]
  },
  {
   "cell_type": "markdown",
   "id": "f9c0f182-5a07-428f-a34b-085238afa37c",
   "metadata": {},
   "source": [
    "## Decision tree"
   ]
  },
  {
   "cell_type": "code",
   "execution_count": 18,
   "id": "21a400e1-750f-4fe2-b7aa-35d842d3cc0c",
   "metadata": {},
   "outputs": [
    {
     "data": {
      "text/plain": [
       "([0.784789325702335, 0.8234174701844861, 0.7624839242475426],\n",
       " [0.16170174923836303, 0.05645898434575921, 0.15171839995927175])"
      ]
     },
     "execution_count": 18,
     "metadata": {},
     "output_type": "execute_result"
    }
   ],
   "source": [
    "DecisionTrees = []\n",
    "clf = DecisionTreeRegressor(criterion = 'squared_error', random_state = 913)\n",
    "DecisionTrees.append(clf)\n",
    "clf = DecisionTreeRegressor(criterion = 'friedman_mse', random_state = 913)\n",
    "DecisionTrees.append(clf)\n",
    "clf = DecisionTreeRegressor(criterion = 'absolute_error', random_state = 913)\n",
    "DecisionTrees.append(clf)\n",
    "# clf = DecisionTreeRegressor(criterion = 'poisson', random_state = 913)\n",
    "# DecisionTrees.append(clf)\n",
    "cross_validate(DecisionTrees)"
   ]
  },
  {
   "cell_type": "markdown",
   "id": "606702bf-538c-4eae-8f3c-341bf44212d2",
   "metadata": {},
   "source": [
    "## NN"
   ]
  },
  {
   "cell_type": "code",
   "execution_count": 21,
   "id": "f96500b9-b20e-4d4b-a2bb-9138e393c318",
   "metadata": {},
   "outputs": [
    {
     "name": "stdout",
     "output_type": "stream",
     "text": [
      "CPU times: total: 6min 8s\n",
      "Wall time: 4min 7s\n"
     ]
    }
   ],
   "source": [
    "%%time\n",
    "NNs = []\n",
    "size_list = [(64,8),(64,16,4),(128,16),(128,32,8)]\n",
    "for i in range(len(size_list)):\n",
    "    NN_same_size = []\n",
    "    for j in range(3):\n",
    "        clf = MLPRegressor(hidden_layer_sizes = size_list[i], learning_rate_init = 10 ** (-i - 2),\n",
    "                           random_state = 913, max_iter = 2000)\n",
    "        NN_same_size.append(clf)\n",
    "    NNs.append(NN_same_size)\n",
    "\n",
    "NN_means = []\n",
    "NN_stds = []\n",
    "for i in range(len(NNs)):\n",
    "    NN_mean, NN_std = cross_validate(NNs[i])\n",
    "    NN_means.append(NN_mean)\n",
    "    NN_std.append(NN_std)"
   ]
  },
  {
   "cell_type": "code",
   "execution_count": 22,
   "id": "2b7ba2ab-9ce7-49a7-aae8-145c098857e5",
   "metadata": {},
   "outputs": [
    {
     "data": {
      "text/plain": [
       "[[0.7633080957089098, 0.7633080957089098, 0.7633080957089098],\n",
       " [0.9100688460208854, 0.9100688460208854, 0.9100688460208854],\n",
       " [0.9174429995000721, 0.9174429995000721, 0.9174429995000721],\n",
       " [0.8800609478430304, 0.8800609478430304, 0.8800609478430304]]"
      ]
     },
     "execution_count": 22,
     "metadata": {},
     "output_type": "execute_result"
    }
   ],
   "source": [
    "NN_means"
   ]
  },
  {
   "cell_type": "code",
   "execution_count": null,
   "id": "7eef746a-5ab7-4886-bb8c-551b26397ea9",
   "metadata": {},
   "outputs": [],
   "source": []
  }
 ],
 "metadata": {
  "kernelspec": {
   "display_name": "Python 3 (ipykernel)",
   "language": "python",
   "name": "python3"
  },
  "language_info": {
   "codemirror_mode": {
    "name": "ipython",
    "version": 3
   },
   "file_extension": ".py",
   "mimetype": "text/x-python",
   "name": "python",
   "nbconvert_exporter": "python",
   "pygments_lexer": "ipython3",
   "version": "3.8.0"
  }
 },
 "nbformat": 4,
 "nbformat_minor": 5
}
