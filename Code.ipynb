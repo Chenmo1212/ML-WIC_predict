{
 "cells": [
  {
   "cell_type": "code",
   "execution_count": 12,
   "id": "c25078b2-e93b-4d7c-b541-59c0f0ddbade",
   "metadata": {},
   "outputs": [],
   "source": [
    "import pandas as pd\n",
    "import numpy as np\n",
    "import matplotlib.pyplot as plt\n",
    "import seaborn as sns\n",
    "from category_encoders import TargetEncoder\n",
    "from sklearn.model_selection import cross_val_score\n",
    "from sklearn.linear_model import Lasso, ElasticNet\n",
    "from sklearn.tree import DecisionTreeRegressor\n",
    "from sklearn.kernel_ridge import KernelRidge\n",
    "from sklearn.neural_network import MLPRegressor"
   ]
  },
  {
   "cell_type": "markdown",
   "id": "bb5dd7aa-de11-4408-a652-df461faceffb",
   "metadata": {},
   "source": [
    "## function"
   ]
  },
  {
   "cell_type": "code",
   "execution_count": 2,
   "id": "8bf7a2bc-fbf2-4c68-9b60-76f877ad257b",
   "metadata": {},
   "outputs": [],
   "source": [
    "def nanfill(data,row, column):\n",
    "    tag = data.iloc[row,1]\n",
    "    # print(data[data.iloc[:,1] == tag].iloc[:,column],'\\n')\n",
    "    temp = data[data.iloc[:,1] == tag].iloc[:,column]\n",
    "    temp = np.average(temp[temp.notna()])\n",
    "    if (pd.isna(temp)):\n",
    "        print(row,column)\n",
    "    data.iloc[row,column] = temp\n",
    "\n",
    "def normalization(data):\n",
    "    for i in range(data.shape[1]):\n",
    "        m1 = min(data.iloc[:,i])\n",
    "        m2 = max(data.iloc[:,i])\n",
    "        data = (data.iloc[:,i] - m1) / (m2 - m1)\n",
    "\n",
    "# 计算交叉验证结果的均值和标准差， 默认为五折交叉验证，结果为相关系数R2      \n",
    "def cross_validate(models, cv = 5, scoring = 'r2'):\n",
    "    means = []\n",
    "    stds = []\n",
    "    for model in models:\n",
    "        score = cross_val_score(model, X_train, y_train, cv = cv, scoring = scoring)\n",
    "        means.append(score.mean())\n",
    "        stds.append(score.std(ddof = 1))\n",
    "    return means, stds"
   ]
  },
  {
   "cell_type": "markdown",
   "id": "77c17068-7024-424b-a9dc-bfbcf4376fb5",
   "metadata": {},
   "source": [
    "## Data import"
   ]
  },
  {
   "cell_type": "code",
   "execution_count": 3,
   "id": "dcc12c07-f05d-4ee4-902a-2fb1dfd7fb1c",
   "metadata": {},
   "outputs": [],
   "source": [
    "raw_data = pd.read_csv('Data.csv')\n",
    "\n",
    "for i in range(3):\n",
    "    for j in range(raw_data.shape[0]):\n",
    "        raw_data.iloc[j,i+2] = np.float64(raw_data.iloc[j,i+2].replace(',',''))\n",
    "        \n",
    "for i in range(raw_data.shape[0]):\n",
    "    for j in range(raw_data.shape[1]):\n",
    "        if (pd.isna(raw_data.iloc[i,j])):\n",
    "            nanfill(raw_data,i,j)"
   ]
  },
  {
   "cell_type": "markdown",
   "id": "6090d498-97a4-4a2b-9592-0474cff2bb83",
   "metadata": {},
   "source": [
    "## Analysis of Correlation"
   ]
  },
  {
   "cell_type": "code",
   "execution_count": null,
   "id": "2d6987fe-2a02-41eb-ab47-f0b56eb29ad8",
   "metadata": {},
   "outputs": [],
   "source": [
    "group = [['LACCESS_POP15','LACCESS_LOWI15','LACCESS_HHNV15','LACCESS_CHILD15','LACCESS_SENIORS15'],\n",
    "        ['GROCPTH16', 'SUPERCPTH16', 'CONVSPTH16', 'SPECSPTH16', 'WICSPTH16'],\n",
    "        ['FFRPTH16', 'FSRPTH16'],\n",
    "        ['FOODINSEC_15_17', 'VLFOODSEC_15_17'],\n",
    "        ['FMRKT_WIC18', 'FMRKT_WICCASH18'],\n",
    "        ['POVRATE15', 'CHILDPOVRATE15']]"
   ]
  },
  {
   "cell_type": "code",
   "execution_count": null,
   "id": "46ab15fe-8414-4c62-9803-47ff97ab294f",
   "metadata": {},
   "outputs": [],
   "source": [
    "for i in range(len(group)):\n",
    "    corr = raw_data[group[i]].corr()\n",
    "    plt.figure(figsize = (12,8), dpi = 300)\n",
    "    sns.heatmap(corr,linewidths=0.1,vmax=1.0, square=True,linecolor='white', annot=True)\n",
    "    plt.savefig('corr_heatmap_{}.jpg'.format(i))"
   ]
  },
  {
   "cell_type": "markdown",
   "id": "bc31369f-f1a5-4d4a-8907-7694066d45c8",
   "metadata": {},
   "source": [
    "## Data preprocessing"
   ]
  },
  {
   "cell_type": "code",
   "execution_count": 4,
   "id": "3b1896db-6a29-420e-97f7-c888acf92d17",
   "metadata": {},
   "outputs": [],
   "source": [
    "preserve_columns = ['County','State','Population_Estimate_2016','LACCESS_POP15','GROCPTH16',\n",
    "                    'SUPERCPTH16','CONVSPTH16','SPECSPTH16','WICSPTH16','FFRPTH16','FSRPTH16',\n",
    "                    'FOODINSEC_15_17','FMRKT_WIC18','POVRATE15','PCT_WIC17']\n",
    "raw_data = raw_data[preserve_columns]\n",
    "raw_data['PCT_WIC17'] = raw_data['PCT_WIC17'] * raw_data['Population_Estimate_2016']\n",
    "raw_data['FOODINSEC_15_17'] = raw_data['FOODINSEC_15_17'] * raw_data['Population_Estimate_2016']\n",
    "raw_data['POVRATE15'] = raw_data['POVRATE15'] * raw_data['Population_Estimate_2016']\n",
    "\n",
    "# for i in range(raw_data.shape[1]-2):\n",
    "#     plt.figure(figsize = (12,8), dpi = 300)\n",
    "#     plt.plot(range(raw_data.shape[0]), raw_data.iloc[:,i+2])\n",
    "#     print(preserve_columns[i+2])\n",
    "\n"
   ]
  },
  {
   "cell_type": "code",
   "execution_count": 5,
   "id": "22d0d1d4-5177-4003-8fa3-b045d0760fc0",
   "metadata": {},
   "outputs": [
    {
     "name": "stderr",
     "output_type": "stream",
     "text": [
      "c:\\Software\\Conda\\envs\\py38\\lib\\site-packages\\category_encoders\\target_encoder.py:122: FutureWarning: Default parameter min_samples_leaf will change in version 2.6.See https://github.com/scikit-learn-contrib/category_encoders/issues/327\n",
      "  warnings.warn(\"Default parameter min_samples_leaf will change in version 2.6.\"\n",
      "c:\\Software\\Conda\\envs\\py38\\lib\\site-packages\\category_encoders\\target_encoder.py:127: FutureWarning: Default parameter smoothing will change in version 2.6.See https://github.com/scikit-learn-contrib/category_encoders/issues/327\n",
      "  warnings.warn(\"Default parameter smoothing will change in version 2.6.\"\n"
     ]
    }
   ],
   "source": [
    "enc = TargetEncoder(cols = ['State']).fit(raw_data['State'],raw_data['PCT_WIC17'])\n",
    "raw_data['State'] = enc.transform(raw_data['State'])"
   ]
  },
  {
   "cell_type": "code",
   "execution_count": 6,
   "id": "e317bbd0-5aa1-430f-84fb-400ae7ca234e",
   "metadata": {},
   "outputs": [],
   "source": [
    "data = raw_data.sample(frac = 1).values\n",
    "X_train = np.float64(data[:2512,1:-1])\n",
    "y_train = np.float64(data[:2512,-1])\n",
    "X_test = np.float64(data[2512:,1:-1])\n",
    "y_test = np.float64(data[2512:,-1])"
   ]
  },
  {
   "cell_type": "markdown",
   "id": "7357eab1-d539-45a0-b91c-9e91b425f5ab",
   "metadata": {},
   "source": [
    "## Ridge"
   ]
  },
  {
   "cell_type": "code",
   "execution_count": null,
   "id": "43d798da-e75b-4083-ad5d-498463499a84",
   "metadata": {},
   "outputs": [],
   "source": [
    "Ridge_clfs = []\n",
    "for i in range(5):\n",
    "    clf = KernelRidge(alpha = 10 ** (i - 2), kernel = 'linear')\n",
    "    Ridge_clfs.append(clf)\n",
    "means1, stds1 = cross_validate(Ridge_clfs)"
   ]
  },
  {
   "cell_type": "code",
   "execution_count": 10,
   "id": "e747ed19-8b04-435f-832c-417d5ba4291a",
   "metadata": {},
   "outputs": [],
   "source": [
    "Ridge_clfs = []\n",
    "for i in range(5):\n",
    "    clf = KernelRidge(alpha = 10 ** (i - 2), kernel = 'sigmoid')\n",
    "    Ridge_clfs.append(clf)\n",
    "means2, stds2 = cross_validate(Ridge_clfs)"
   ]
  },
  {
   "cell_type": "code",
   "execution_count": 11,
   "id": "9f7dd93b-8fae-45c5-bc0e-493ab9b18b5b",
   "metadata": {},
   "outputs": [],
   "source": [
    "Ridge_clfs = []\n",
    "for i in range(5):\n",
    "    clf = KernelRidge(alpha = 10 ** (i - 2), kernel = 'rbf')\n",
    "    Ridge_clfs.append(clf)\n",
    "means3, stds3 = cross_validate(Ridge_clfs)"
   ]
  },
  {
   "cell_type": "markdown",
   "id": "9e66b063-58c0-460c-9a10-8866c27e49aa",
   "metadata": {},
   "source": [
    "## Lasso"
   ]
  },
  {
   "cell_type": "code",
   "execution_count": 9,
   "id": "738eda53-e846-4e17-bd15-686c52559d3a",
   "metadata": {},
   "outputs": [],
   "source": [
    "Lasso_clfs = []\n",
    "for i in range(5):\n",
    "    clf = Lasso(alpha = 10 ** (i - 2), max_iter = 5000, random_state = 913)\n",
    "    Lasso_clfs.append(clf)\n",
    "mean, std = cross_validate(Lasso_clfs)"
   ]
  },
  {
   "cell_type": "markdown",
   "id": "d5de9f96-89f9-4b4e-96fb-2bab5f95bac3",
   "metadata": {},
   "source": [
    "## Elastic Net"
   ]
  },
  {
   "cell_type": "code",
   "execution_count": 15,
   "id": "b52697ea-db29-4b5a-8aa8-32cd90b03451",
   "metadata": {},
   "outputs": [],
   "source": [
    "ElasticNet_clfs = []\n",
    "l1_ratio = [0.25,0.5,0.75]\n",
    "for i in range(3):\n",
    "    same_ratio = []\n",
    "    for j in range(5):\n",
    "        clf = ElasticNet(alpha = 10 ** (i - 2), l1_ratio = l1_ratio[i], random_state = 913, max_iter = 5000)\n",
    "        same_ratio.append(clf)\n",
    "    ElasticNet_clfs.append(clf)\n",
    "    \n",
    "mean, std = cross_validate(ElasticNet_clfs)"
   ]
  },
  {
   "cell_type": "markdown",
   "id": "f9c0f182-5a07-428f-a34b-085238afa37c",
   "metadata": {},
   "source": [
    "## Decision tree"
   ]
  },
  {
   "cell_type": "code",
   "execution_count": 12,
   "id": "21a400e1-750f-4fe2-b7aa-35d842d3cc0c",
   "metadata": {},
   "outputs": [
    {
     "data": {
      "text/plain": [
       "([0.8479539675280255,\n",
       "  0.8503961441360299,\n",
       "  0.8387932505589386,\n",
       "  0.8335042699150778],\n",
       " [0.15318355977226067,\n",
       "  0.15331643407752396,\n",
       "  0.15052858738464922,\n",
       "  0.14559628438148853])"
      ]
     },
     "execution_count": 12,
     "metadata": {},
     "output_type": "execute_result"
    }
   ],
   "source": [
    "DecisionTrees = []\n",
    "clf = DecisionTreeRegressor(criterion = 'squared_error', random_state = 913)\n",
    "DecisionTrees.append(clf)\n",
    "clf = DecisionTreeRegressor(criterion = 'friedman_mse', random_state = 913)\n",
    "DecisionTrees.append(clf)\n",
    "clf = DecisionTreeRegressor(criterion = 'absolute_error', random_state = 913)\n",
    "DecisionTrees.append(clf)\n",
    "clf = DecisionTreeRegressor(criterion = 'poisson', random_state = 913)\n",
    "DecisionTrees.append(clf)\n",
    "cross_validate(DecisionTrees)"
   ]
  },
  {
   "cell_type": "markdown",
   "id": "606702bf-538c-4eae-8f3c-341bf44212d2",
   "metadata": {},
   "source": [
    "## NN"
   ]
  },
  {
   "cell_type": "code",
   "execution_count": 9,
   "id": "f96500b9-b20e-4d4b-a2bb-9138e393c318",
   "metadata": {},
   "outputs": [
    {
     "name": "stdout",
     "output_type": "stream",
     "text": [
      "CPU times: total: 4min 57s\n",
      "Wall time: 3min 6s\n"
     ]
    }
   ],
   "source": [
    "%%time\n",
    "NNs = []\n",
    "size_list = [(64,8),(64,16,4),(128,16),(128,32,8)]\n",
    "for i in range(len(size_list)):\n",
    "    NN_same_size = []\n",
    "    for j in range(3):\n",
    "        clf = MLPRegressor(hidden_layer_sizes = size_list[i], learning_rate_init = 10 ** (-i - 2),\n",
    "                           random_state = 913, max_iter = 2000)\n",
    "        NN_same_size.append(clf)\n",
    "    NNs.append(NN_same_size)\n",
    "\n",
    "means = []\n",
    "stds = []\n",
    "for i in range(len(NNs)):\n",
    "    mean, std = cross_validate(NNs[i])\n",
    "    means.append(mean)\n",
    "    std.append(std)"
   ]
  },
  {
   "cell_type": "code",
   "execution_count": null,
   "id": "9423ffbb-cef6-47c4-a887-a20992763c4e",
   "metadata": {},
   "outputs": [],
   "source": []
  }
 ],
 "metadata": {
  "kernelspec": {
   "display_name": "Python 3 (ipykernel)",
   "language": "python",
   "name": "python3"
  },
  "language_info": {
   "codemirror_mode": {
    "name": "ipython",
    "version": 3
   },
   "file_extension": ".py",
   "mimetype": "text/x-python",
   "name": "python",
   "nbconvert_exporter": "python",
   "pygments_lexer": "ipython3",
   "version": "3.8.0"
  }
 },
 "nbformat": 4,
 "nbformat_minor": 5
}
